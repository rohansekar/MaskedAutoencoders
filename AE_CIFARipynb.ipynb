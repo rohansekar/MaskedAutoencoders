{
  "nbformat": 4,
  "nbformat_minor": 0,
  "metadata": {
    "colab": {
      "provenance": []
    },
    "kernelspec": {
      "name": "python3",
      "display_name": "Python 3"
    },
    "language_info": {
      "name": "python"
    },
    "accelerator": "GPU",
    "gpuClass": "standard"
  },
  "cells": [
    {
      "cell_type": "code",
      "execution_count": 2,
      "metadata": {
        "id": "fuWUU_cBhE04"
      },
      "outputs": [],
      "source": [
        "import matplotlib.pyplot as plt\n",
        "import numpy as np\n",
        "import math\n",
        "import torch\n",
        "import torch.nn as nn\n",
        "import torch.nn.functional as F\n",
        "from torch.nn import init\n",
        "import torchvision\n",
        "import torch.optim as optim\n",
        "from torch.utils.data import DataLoader\n",
        "from torch.utils.data import sampler\n",
        "from torch.autograd import Variable\n",
        "from torch.nn import functional as F\n",
        "from torchvision import datasets, transforms\n",
        "import PIL\n",
        "from PIL import Image\n",
        "import cv2"
      ]
    },
    {
      "cell_type": "code",
      "source": [
        "#Use this if you are running on any Cuda enabled system\n",
        "device = 'cuda' if torch.cuda.is_available() else 'cpu'\n",
        "print(device)"
      ],
      "metadata": {
        "colab": {
          "base_uri": "https://localhost:8080/"
        },
        "id": "6Rb5gVKnhKrO",
        "outputId": "a7c98945-50a2-40cc-aa1b-60572202fde4"
      },
      "execution_count": 3,
      "outputs": [
        {
          "output_type": "stream",
          "name": "stdout",
          "text": [
            "cuda\n"
          ]
        }
      ]
    },
    {
      "cell_type": "code",
      "source": [
        "# Define hyperparameters\n",
        "# batch_size = 128\n",
        "# z_dim = 100\n",
        "# N = 500\n",
        "# X_dim = 3*32*32\n",
        "\n",
        "input_dim = 32*32\n",
        "batch_size = 128\n",
        "n_epochs = 100\n",
        "\n",
        "# Load CIFAR-10 dataset\n",
        "transform = transforms.Compose([\n",
        "    transforms.ToTensor()])\n",
        "\n",
        "CIFAR10_train = datasets.CIFAR10('./data', \n",
        "               transform=transform, \n",
        "               download=True, train=True)\n",
        "\n",
        "loader_train = DataLoader(CIFAR10_train, batch_size=batch_size,\n",
        "                          shuffle=True, drop_last=True, num_workers=2)\n",
        "\n",
        "CIFAR10_test = datasets.CIFAR10('./data', \n",
        "               transform=torchvision.transforms.ToTensor(), \n",
        "               download=True, train=False)\n",
        "\n",
        "loader_test = DataLoader(CIFAR10_test, batch_size=batch_size,\n",
        "                          shuffle=True, drop_last=True, num_workers=2) "
      ],
      "metadata": {
        "colab": {
          "base_uri": "https://localhost:8080/"
        },
        "id": "yEY12Z5ShOyP",
        "outputId": "60bee445-b6e8-4ce6-dc41-50eca79bd7ec"
      },
      "execution_count": 4,
      "outputs": [
        {
          "output_type": "stream",
          "name": "stdout",
          "text": [
            "Downloading https://www.cs.toronto.edu/~kriz/cifar-10-python.tar.gz to ./data/cifar-10-python.tar.gz\n"
          ]
        },
        {
          "output_type": "stream",
          "name": "stderr",
          "text": [
            "100%|██████████| 170498071/170498071 [00:07<00:00, 21452163.49it/s]\n"
          ]
        },
        {
          "output_type": "stream",
          "name": "stdout",
          "text": [
            "Extracting ./data/cifar-10-python.tar.gz to ./data\n",
            "Files already downloaded and verified\n"
          ]
        }
      ]
    },
    {
      "cell_type": "code",
      "source": [
        "class AE(nn.Module):\n",
        "    def __init__(self):\n",
        "        super().__init__()\n",
        "\n",
        "        self.encoder= nn.Sequential(\n",
        "            nn.Conv2d(3,16,kernel_size=4,stride=2,padding=1),\n",
        "            nn.BatchNorm2d(16),\n",
        "            nn.ReLU(),\n",
        "            nn.Conv2d(16,32,kernel_size=4,stride=2,padding=1),\n",
        "            nn.BatchNorm2d(32),\n",
        "            nn.ReLU(),\n",
        "            nn.Conv2d(32,64,kernel_size=4,stride=2,padding=1),\n",
        "            nn.BatchNorm2d(64),\n",
        "            nn.ReLU(),\n",
        "        )\n",
        "\n",
        "        self.decoder=nn.Sequential(\n",
        "            nn.ConvTranspose2d(64,32,kernel_size=4,stride=2,padding=1),\n",
        "            nn.BatchNorm2d(32),\n",
        "            nn.ReLU(),\n",
        "            nn.ConvTranspose2d(32,16,kernel_size=4,stride=2,padding=1),\n",
        "            nn.BatchNorm2d(16),\n",
        "            nn.ReLU(),\n",
        "            nn.ConvTranspose2d(16,3,kernel_size=4,stride=2,padding=1),\n",
        "            nn.BatchNorm2d(3),\n",
        "            nn.Sigmoid(),\n",
        "        )\n",
        "\n",
        "    def forward(self,x):\n",
        "      encoded= self.encoder(x)\n",
        "      decoded=self.decoder(encoded)\n",
        "\n",
        "      return decoded"
      ],
      "metadata": {
        "id": "SHIzVTNQhQF7"
      },
      "execution_count": 41,
      "outputs": []
    },
    {
      "cell_type": "code",
      "source": [
        "from torchsummary import summary\n",
        "ae = AE().to(device)\n",
        "summary(ae,(3,32,32))"
      ],
      "metadata": {
        "colab": {
          "base_uri": "https://localhost:8080/"
        },
        "id": "jHZd8IKzhT6W",
        "outputId": "a96a2599-2977-4a70-c4e4-546940c32d1e"
      },
      "execution_count": 51,
      "outputs": [
        {
          "output_type": "stream",
          "name": "stdout",
          "text": [
            "----------------------------------------------------------------\n",
            "        Layer (type)               Output Shape         Param #\n",
            "================================================================\n",
            "            Conv2d-1           [-1, 16, 16, 16]             784\n",
            "       BatchNorm2d-2           [-1, 16, 16, 16]              32\n",
            "              ReLU-3           [-1, 16, 16, 16]               0\n",
            "            Conv2d-4             [-1, 32, 8, 8]           8,224\n",
            "       BatchNorm2d-5             [-1, 32, 8, 8]              64\n",
            "              ReLU-6             [-1, 32, 8, 8]               0\n",
            "            Conv2d-7             [-1, 64, 4, 4]          32,832\n",
            "       BatchNorm2d-8             [-1, 64, 4, 4]             128\n",
            "              ReLU-9             [-1, 64, 4, 4]               0\n",
            "  ConvTranspose2d-10             [-1, 32, 8, 8]          32,800\n",
            "      BatchNorm2d-11             [-1, 32, 8, 8]              64\n",
            "             ReLU-12             [-1, 32, 8, 8]               0\n",
            "  ConvTranspose2d-13           [-1, 16, 16, 16]           8,208\n",
            "      BatchNorm2d-14           [-1, 16, 16, 16]              32\n",
            "             ReLU-15           [-1, 16, 16, 16]               0\n",
            "  ConvTranspose2d-16            [-1, 3, 32, 32]             771\n",
            "      BatchNorm2d-17            [-1, 3, 32, 32]               6\n",
            "          Sigmoid-18            [-1, 3, 32, 32]               0\n",
            "================================================================\n",
            "Total params: 83,945\n",
            "Trainable params: 83,945\n",
            "Non-trainable params: 0\n",
            "----------------------------------------------------------------\n",
            "Input size (MB): 0.01\n",
            "Forward/backward pass size (MB): 0.38\n",
            "Params size (MB): 0.32\n",
            "Estimated Total Size (MB): 0.71\n",
            "----------------------------------------------------------------\n"
          ]
        }
      ]
    },
    {
      "cell_type": "code",
      "source": [
        "def mask_function(image):\n",
        "  height,width,channels= image.shape\n",
        "  num_patches = int((height * width * 0.5) / 4)\n",
        "  mask = np.zeros((height, width), dtype=np.uint8)\n",
        "  for i in range(num_patches):\n",
        "      x = np.random.randint(0, width - 2)\n",
        "      y = np.random.randint(0, height - 2)\n",
        "      mask[y:y+2, x:x+2] = 1\n",
        "  masked_image = image * mask[:, :, np.newaxis]\n",
        "  return masked_image"
      ],
      "metadata": {
        "id": "FjrtDgpS413a"
      },
      "execution_count": 52,
      "outputs": []
    },
    {
      "cell_type": "code",
      "source": [
        "optimizer = torch.optim.Adam(ae.parameters(),lr=0.01)\n",
        "train_loss_list=[]\n",
        "test_loss_list=[]\n",
        "for epoch in range(n_epochs):\n",
        "  ae.train()\n",
        "  train_loss = 0\n",
        "  test_loss=0\n",
        "  loss = nn.MSELoss()\n",
        "  for batch_idx, (data, labels) in enumerate(loader_train):\n",
        "    data2=torch.clone(data)\n",
        "    for i in range (batch_size):\n",
        "      img=np.transpose(data2[i],(1,2,0))\n",
        "      img= mask_function(img)\n",
        "      img=np.transpose(img,(2,0,1))\n",
        "      data2[i]=img\n",
        "    optimizer.zero_grad()\n",
        "    x_hat= ae(data2.to(device))\n",
        "    l=loss(x_hat.to(device),data.to(device))\n",
        "    l.backward()\n",
        "    optimizer.step()\n",
        "    train_loss+=l\n",
        "\n",
        "  train_loss = train_loss/len(loader_train)\n",
        "  train_loss_list.append(train_loss.item())\n",
        "  print('Epoch: {} \\tTraining Loss: {:.6f}'.format(epoch, train_loss))\n",
        "  for batch_idx, (data, labels) in enumerate(loader_test):\n",
        "    data2=torch.clone(data)\n",
        "    for i in range (batch_size):\n",
        "      img=np.transpose(data2[i],(1,2,0))\n",
        "      img= mask_function(img)\n",
        "      img=np.transpose(img,(2,0,1))\n",
        "      data2[i]=img\n",
        "    x_hat= ae(data2.to(device))\n",
        "    l=loss(x_hat.to(device),data.to(device))\n",
        "    test_loss+=l\n",
        "  if epoch%10==0:\n",
        "    test_loss=test_loss/len(loader_test)\n",
        "    test_loss_list.append(test_loss.item())"
      ],
      "metadata": {
        "colab": {
          "base_uri": "https://localhost:8080/"
        },
        "id": "VJG3s5_ihe8v",
        "outputId": "84f126cb-f7e2-4cac-e472-6068bf2f2586"
      },
      "execution_count": null,
      "outputs": [
        {
          "output_type": "stream",
          "name": "stdout",
          "text": [
            "Epoch: 0 \tTraining Loss: 0.016820\n",
            "Epoch: 1 \tTraining Loss: 0.009609\n",
            "Epoch: 2 \tTraining Loss: 0.008647\n",
            "Epoch: 3 \tTraining Loss: 0.008231\n",
            "Epoch: 4 \tTraining Loss: 0.008015\n"
          ]
        }
      ]
    },
    {
      "cell_type": "code",
      "source": [
        "image,label= CIFAR10_train[0]\n",
        "img=np.transpose(image,(1,2,0))\n",
        "img= mask_function(img)\n",
        "img=np.transpose(img,(2,0,1))\n",
        "img=torch.tensor(img,dtype=torch.float).unsqueeze(0)\n",
        "x_hat= ae(img.to(device))\n",
        "x_hat=x_hat.to('cpu').detach().numpy().squeeze(0)\n",
        "img=img.to('cpu').detach().numpy().squeeze(0)"
      ],
      "metadata": {
        "colab": {
          "base_uri": "https://localhost:8080/"
        },
        "id": "hlgN1J5KmyUa",
        "outputId": "e93018fa-04e0-4cb7-b818-dea357d64404"
      },
      "execution_count": 45,
      "outputs": [
        {
          "output_type": "stream",
          "name": "stderr",
          "text": [
            "<ipython-input-45-154c50455c02>:5: UserWarning: To copy construct from a tensor, it is recommended to use sourceTensor.clone().detach() or sourceTensor.clone().detach().requires_grad_(True), rather than torch.tensor(sourceTensor).\n",
            "  img=torch.tensor(img,dtype=torch.float).unsqueeze(0)\n"
          ]
        }
      ]
    },
    {
      "cell_type": "code",
      "source": [
        "fig = plt.figure(figsize=(10, 10))\n",
        "fig.add_subplot(2,2,1)\n",
        "plt.imshow(np.transpose(img,(1,2,0)))\n",
        "plt.title('Ground Truth')\n",
        "fig.add_subplot(2,2,2)\n",
        "plt.imshow(np.transpose(x_hat,(1,2,0)))\n",
        "plt.title('Predicted Image')"
      ],
      "metadata": {
        "colab": {
          "base_uri": "https://localhost:8080/",
          "height": 451
        },
        "id": "QqYUAJL2h1R-",
        "outputId": "312ad8f9-0820-4a1e-861b-95f11645923f"
      },
      "execution_count": 46,
      "outputs": [
        {
          "output_type": "execute_result",
          "data": {
            "text/plain": [
              "Text(0.5, 1.0, 'Predicted Image')"
            ]
          },
          "metadata": {},
          "execution_count": 46
        },
        {
          "output_type": "display_data",
          "data": {
            "text/plain": [
              "<Figure size 1000x1000 with 2 Axes>"
            ],
            "image/png": "[encoded data removed]"
          },
          "metadata": {}
        }
      ]
    },
    {
      "cell_type": "code",
      "source": [
        "plt.plot(train_loss_list)\n",
        "plt.plot(test_loss_list)"
      ],
      "metadata": {
        "colab": {
          "base_uri": "https://localhost:8080/",
          "height": 448
        },
        "id": "x104iapJmvUL",
        "outputId": "e32ab206-8250-4d7d-cf79-d082a9453329"
      },
      "execution_count": 47,
      "outputs": [
        {
          "output_type": "execute_result",
          "data": {
            "text/plain": [
              "[<matplotlib.lines.Line2D at 0x7f4df54e9bd0>]"
            ]
          },
          "metadata": {},
          "execution_count": 47
        },
        {
          "output_type": "display_data",
          "data": {
            "text/plain": [
              "<Figure size 640x480 with 1 Axes>"
            ],
            "image/png": "[encoded data removed]"
          },
          "metadata": {}
        }
      ]
    },
    {
      "cell_type": "code",
      "source": [],
      "metadata": {
        "id": "Jl8xU6LrnC_W"
      },
      "execution_count": null,
      "outputs": []
    },
    {
      "cell_type": "code",
      "source": [],
      "metadata": {
        "id": "csu6c1-yn8ya"
      },
      "execution_count": null,
      "outputs": []
    }
  ]
}